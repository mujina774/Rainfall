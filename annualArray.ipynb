{
 "cells": [
  {
   "cell_type": "code",
   "execution_count": 1,
   "id": "7b11e2e1-d256-4c60-804d-694b017a4262",
   "metadata": {},
   "outputs": [],
   "source": [
    "import numpy as np\n",
    "import matplotlib.pyplot as plt\n",
    "import os\n",
    "from PIL import Image"
   ]
  },
  {
   "cell_type": "code",
   "execution_count": 4,
   "id": "df4d04fb-7f4f-48b7-b7ed-7883714c8f7d",
   "metadata": {},
   "outputs": [],
   "source": [
    "path = './im/20'\n",
    "ext = '.png'\n",
    "\n",
    "im = []\n",
    "for i in range(1, 24):\n",
    "    s = str(i).zfill(2)  \n",
    "    fn = path + s + '/rf20' + s + ext\n",
    "#    print(os.path.isfile(fn))\n",
    "    m = np.array(plt.imread(fn))\n",
    "#    print(m.shape, '\\t', m.dtype)\n",
    "    im.append(m[:, :, 0])"
   ]
  },
  {
   "cell_type": "code",
   "execution_count": 6,
   "id": "3684121f-e4e5-44f3-a835-99de870f44f9",
   "metadata": {},
   "outputs": [
    {
     "name": "stdout",
     "output_type": "stream",
     "text": [
      "(23, 1800, 3600) \t float32\n"
     ]
    }
   ],
   "source": [
    "im = np.array(im)\n",
    "print(im.shape, '\\t', im.dtype)"
   ]
  },
  {
   "cell_type": "code",
   "execution_count": 9,
   "id": "e2022581-32bd-4333-bdae-8263fc05ef53",
   "metadata": {},
   "outputs": [],
   "source": [
    "np.save('./im/npy/rfAveAnnual.npy', im)"
   ]
  }
 ],
 "metadata": {
  "kernelspec": {
   "display_name": "Python 3 (ipykernel)",
   "language": "python",
   "name": "python3"
  },
  "language_info": {
   "codemirror_mode": {
    "name": "ipython",
    "version": 3
   },
   "file_extension": ".py",
   "mimetype": "text/x-python",
   "name": "python",
   "nbconvert_exporter": "python",
   "pygments_lexer": "ipython3",
   "version": "3.12.2"
  }
 },
 "nbformat": 4,
 "nbformat_minor": 5
}
