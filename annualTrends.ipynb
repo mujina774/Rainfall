{
 "cells": [
  {
   "cell_type": "code",
   "execution_count": 1,
   "id": "217c43b8-4e42-4fc9-9a21-ddfef20525c1",
   "metadata": {},
   "outputs": [],
   "source": [
    "import numpy as np\n",
    "import matplotlib.pyplot as plt\n",
    "import matplotlib.ticker as ticker\n",
    "import os\n",
    "from PIL import Image"
   ]
  },
  {
   "cell_type": "code",
   "execution_count": 3,
   "id": "76990c5d-03c9-4219-b253-9d53b5205ab9",
   "metadata": {},
   "outputs": [],
   "source": [
    "rf = np.load('./im/npy/rfAveAnnual.npy')"
   ]
  },
  {
   "cell_type": "code",
   "execution_count": 4,
   "id": "3233d8cb-a403-4023-b8c5-75a73dd7c68a",
   "metadata": {},
   "outputs": [
    {
     "name": "stdout",
     "output_type": "stream",
     "text": [
      "(23, 1800, 3600) \t float32\n"
     ]
    }
   ],
   "source": [
    "print(rf.shape, '\\t', rf.dtype)"
   ]
  },
  {
   "cell_type": "code",
   "execution_count": 5,
   "id": "277bb05c-d04f-4cb4-8ac6-8707c4c03df4",
   "metadata": {},
   "outputs": [],
   "source": [
    "a = [300, 600]\n",
    "b = 0\n",
    "c = 0\n",
    "for i in range(900 - a[0], 900 + a[0]):\n",
    "    b += sum(rf[0, i, :])\n",
    "for i in range(900 - a[1], 900 + a[1]):\n",
    "    c += sum(rf[0, i, :])"
   ]
  },
  {
   "cell_type": "code",
   "execution_count": 6,
   "id": "5160477a-4751-464b-8bdf-b68df63e3229",
   "metadata": {},
   "outputs": [
    {
     "name": "stdout",
     "output_type": "stream",
     "text": [
      "931829.831782246 2054864.0337469475\n"
     ]
    }
   ],
   "source": [
    "print(b, c)"
   ]
  }
 ],
 "metadata": {
  "kernelspec": {
   "display_name": "Python 3 (ipykernel)",
   "language": "python",
   "name": "python3"
  },
  "language_info": {
   "codemirror_mode": {
    "name": "ipython",
    "version": 3
   },
   "file_extension": ".py",
   "mimetype": "text/x-python",
   "name": "python",
   "nbconvert_exporter": "python",
   "pygments_lexer": "ipython3",
   "version": "3.12.2"
  }
 },
 "nbformat": 4,
 "nbformat_minor": 5
}
